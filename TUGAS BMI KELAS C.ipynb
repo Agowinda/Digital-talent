{
 "cells": [
  {
   "cell_type": "code",
   "execution_count": 2,
   "metadata": {},
   "outputs": [
    {
     "name": "stdout",
     "output_type": "stream",
     "text": [
      "BMI 32.0\n",
      "moderately obese\n",
      "program selesai\n"
     ]
    }
   ],
   "source": [
    "weight=50\n",
    "height=125\n",
    "BMI=weight/((height/100)**2)\n",
    "print('BMI', BMI)\n",
    "\n",
    "if BMI>40:\n",
    "    print(\"very severely obese\")\n",
    "elif BMI>=35:\n",
    "    print(\"severely obese\")\n",
    "elif BMI>=30:\n",
    "    print(\"moderately obese\")\n",
    "elif BMI>=25:\n",
    "    print(\"overweight\")\n",
    "elif BMI>=18.5:\n",
    "    print(\"normal\")\n",
    "elif BMI>=16:\n",
    "    print(\"underweight\")\n",
    "elif BMI>=15:\n",
    "    print(\"severely undrweight\")\n",
    "elif BMI<15:\n",
    "    print(\"very severely underweight\")\n",
    "print(\"program selesai\")\n"
   ]
  },
  {
   "cell_type": "code",
   "execution_count": null,
   "metadata": {},
   "outputs": [],
   "source": []
  }
 ],
 "metadata": {
  "kernelspec": {
   "display_name": "Python 3",
   "language": "python",
   "name": "python3"
  },
  "language_info": {
   "codemirror_mode": {
    "name": "ipython",
    "version": 3
   },
   "file_extension": ".py",
   "mimetype": "text/x-python",
   "name": "python",
   "nbconvert_exporter": "python",
   "pygments_lexer": "ipython3",
   "version": "3.6.4"
  }
 },
 "nbformat": 4,
 "nbformat_minor": 2
}
