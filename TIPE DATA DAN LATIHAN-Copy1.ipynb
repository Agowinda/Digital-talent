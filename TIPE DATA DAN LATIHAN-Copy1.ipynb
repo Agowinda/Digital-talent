{
 "cells": [
  {
   "cell_type": "markdown",
   "metadata": {},
   "source": [
    "# IN JESUS I TRUST\n",
    "I CAN DO IT!!!"
   ]
  },
  {
   "cell_type": "markdown",
   "metadata": {},
   "source": [
    "# SINTAKS DASAR"
   ]
  },
  {
   "cell_type": "markdown",
   "metadata": {},
   "source": [
    "## Variabel\n",
    "selalu disertai tanda : \"\""
   ]
  },
  {
   "cell_type": "code",
   "execution_count": 2,
   "metadata": {},
   "outputs": [
    {
     "name": "stdout",
     "output_type": "stream",
     "text": [
      "Teresa Gowinda Artati\n"
     ]
    }
   ],
   "source": [
    "nama = \"Teresa Gowinda Artati\"\n",
    "print(nama)"
   ]
  },
  {
   "cell_type": "markdown",
   "metadata": {},
   "source": [
    "Nilai dalam variabel juga dapat diubah sewaktu2"
   ]
  },
  {
   "cell_type": "code",
   "execution_count": 3,
   "metadata": {},
   "outputs": [
    {
     "name": "stdout",
     "output_type": "stream",
     "text": [
      "gowinda\n"
     ]
    }
   ],
   "source": [
    "nama = \"teresa\"\n",
    "nama = \"gowinda\"\n",
    "print(nama)"
   ]
  },
  {
   "cell_type": "markdown",
   "metadata": {},
   "source": [
    "memberikan ilai pilihan pad variabel secara langsung"
   ]
  },
  {
   "cell_type": "code",
   "execution_count": 4,
   "metadata": {},
   "outputs": [
    {
     "name": "stdout",
     "output_type": "stream",
     "text": [
      "5\n",
      "7\n",
      "hai\n"
     ]
    }
   ],
   "source": [
    "a, b, c = 5, 7, \"hai\"\n",
    "print (a)\n",
    "print (b)\n",
    "print (c)"
   ]
  },
  {
   "cell_type": "code",
   "execution_count": 7,
   "metadata": {},
   "outputs": [
    {
     "name": "stdout",
     "output_type": "stream",
     "text": [
      "sama\n",
      "sama\n",
      "sama\n"
     ]
    }
   ],
   "source": [
    "x = y = a =\"sama\"\n",
    "print (x)\n",
    "print (y)\n",
    "print (a)"
   ]
  },
  {
   "cell_type": "markdown",
   "metadata": {},
   "source": [
    "## TIPE DATA"
   ]
  },
  {
   "cell_type": "markdown",
   "metadata": {},
   "source": [
    "### Numbers\n",
    "integer : angka tanpa koma\n",
    "\n",
    "float : angka dengan koma"
   ]
  },
  {
   "cell_type": "code",
   "execution_count": 8,
   "metadata": {},
   "outputs": [
    {
     "name": "stdout",
     "output_type": "stream",
     "text": [
      "5 mempunyai tipe <class 'int'>\n",
      "4.5 mempunyai tipe <class 'float'>\n"
     ]
    }
   ],
   "source": [
    "a = 5\n",
    "print (a, \"mempunyai tipe\", type (a))\n",
    "\n",
    "a = 4.5\n",
    "print (a, \"mempunyai tipe\", type(a))"
   ]
  },
  {
   "cell_type": "markdown",
   "metadata": {},
   "source": [
    "### Boolean\n",
    "benar atau salah?"
   ]
  },
  {
   "cell_type": "code",
   "execution_count": 9,
   "metadata": {},
   "outputs": [
    {
     "name": "stdout",
     "output_type": "stream",
     "text": [
      "False mempunyai tipe <class 'bool'>\n",
      "True mempunyai tipe <class 'bool'>\n"
     ]
    }
   ],
   "source": [
    "a = 5>6\n",
    "print(a, \"mempunyai tipe\", type (a))\n",
    "\n",
    "b = 9>5\n",
    "print(b, \"mempunyai tipe\", type (b))"
   ]
  },
  {
   "cell_type": "markdown",
   "metadata": {},
   "source": [
    "## OPERATOR"
   ]
  },
  {
   "cell_type": "markdown",
   "metadata": {},
   "source": [
    "### Operator aritmetika\n",
    "\n",
    "tambah : +\n",
    "\n",
    "kurang : -\n",
    "\n",
    "kali : *\n",
    "\n",
    "bagi : /\n",
    "\n",
    "sisa pembagian : % (x%y, adalah sisa pembagian dari x/y)"
   ]
  },
  {
   "cell_type": "code",
   "execution_count": 19,
   "metadata": {},
   "outputs": [
    {
     "name": "stdout",
     "output_type": "stream",
     "text": [
      "11\n",
      "x-y= -1\n",
      "30\n",
      "1.2\n",
      "5\n"
     ]
    }
   ],
   "source": [
    "x=5\n",
    "y=6\n",
    "print (x+y)\n",
    "print ('x-y=',x-y)\n",
    "print(x*y)\n",
    "print(y/x)\n",
    "print(x%y)\n"
   ]
  },
  {
   "cell_type": "markdown",
   "metadata": {},
   "source": [
    "pembagian dibulatkan ke bawah mengunakan : //\n",
    "\n",
    "eksponen pangkat menggunakan **"
   ]
  },
  {
   "cell_type": "code",
   "execution_count": 24,
   "metadata": {},
   "outputs": [
    {
     "name": "stdout",
     "output_type": "stream",
     "text": [
      "3\n",
      "49\n"
     ]
    }
   ],
   "source": [
    "a=7\n",
    "b=2\n",
    "\n",
    "print(a//b)\n",
    "print(a**b)"
   ]
  },
  {
   "cell_type": "markdown",
   "metadata": {},
   "source": [
    "### Operator assignment\n",
    "pemberian nila atau updating nilai"
   ]
  },
  {
   "cell_type": "code",
   "execution_count": 26,
   "metadata": {},
   "outputs": [
    {
     "name": "stdout",
     "output_type": "stream",
     "text": [
      "10\n",
      "19\n"
     ]
    }
   ],
   "source": [
    "a=5\n",
    "b=9\n",
    "\n",
    "a=a+5\n",
    "print (a)\n",
    "b=b+a\n",
    "print(b)"
   ]
  },
  {
   "cell_type": "markdown",
   "metadata": {},
   "source": [
    "### Latihan\n",
    "    harga buku 100000\n",
    "    \n",
    "    diskon 40%\n",
    "    \n",
    "    ongkir 1 9000\n",
    "    \n",
    "    ongkir selanutnya 3000\n",
    "\n",
    "    eks 60\n",
    "biaya total?"
   ]
  },
  {
   "cell_type": "code",
   "execution_count": 39,
   "metadata": {},
   "outputs": [
    {
     "name": "stdout",
     "output_type": "stream",
     "text": [
      "60000.0\n",
      "3600000.0\n",
      "177000\n",
      "3786000.0\n"
     ]
    }
   ],
   "source": [
    "harga_buku=100000\n",
    "diskon=40\n",
    "ongkir1=9000\n",
    "ongkir_selanjutnya=3000\n",
    "eks=60\n",
    "\n",
    "harga_diskon =harga_buku-(harga_buku*(diskon/100))\n",
    "print(harga_diskon)\n",
    "harga_total_buku=harga_diskon*eks\n",
    "print(harga_total_buku)\n",
    "harga_ongkir_selanjutnya=ongkir_selanjutnya*59\n",
    "print(harga_ongkir_selanjutnya)\n",
    "harga_total=harga_total_buku+harga_ongkir_selanjutnya+ongkir1\n",
    "print(harga_total)"
   ]
  },
  {
   "cell_type": "markdown",
   "metadata": {},
   "source": [
    "### Operator perbandingan\n",
    "y> :  y lebih dari\n",
    "\n",
    "< : kurang dari\n",
    "\n",
    "== : sama dengan\n",
    "\n",
    "!= : tidak sama dengan\n",
    "\n",
    "x> = : x lebih dari sama dengan\n",
    "\n",
    "<= : kurang dari sama dengan"
   ]
  },
  {
   "cell_type": "code",
   "execution_count": 41,
   "metadata": {},
   "outputs": [
    {
     "name": "stdout",
     "output_type": "stream",
     "text": [
      "True\n",
      "False\n",
      "False\n",
      "True\n",
      "False\n",
      "False\n"
     ]
    }
   ],
   "source": [
    "x=10\n",
    "y=8\n",
    "\n",
    "print(x>y)\n",
    "print(x<y)\n",
    "print(y==x)\n",
    "print(x!=y)\n",
    "print(y>=x)\n",
    "print(x<=y)"
   ]
  },
  {
   "cell_type": "markdown",
   "metadata": {},
   "source": [
    "### Operator logika\n",
    "and : true jika keduanya true\n",
    "\n",
    "or : true jika salah satunya true\n",
    "\n",
    "not : not false=true, dan not true=false\n"
   ]
  },
  {
   "cell_type": "code",
   "execution_count": 42,
   "metadata": {},
   "outputs": [
    {
     "name": "stdout",
     "output_type": "stream",
     "text": [
      "True\n",
      "True\n",
      "False\n"
     ]
    }
   ],
   "source": [
    "a=4>2\n",
    "b=10<=15\n",
    "print(a and b)\n",
    "print(a or b)\n",
    "print(not a)"
   ]
  },
  {
   "cell_type": "markdown",
   "metadata": {},
   "source": [
    "## PERCABANGAN\n",
    "Digunakan dalamkondisi jika, maka... misal: jika nilai >85, maka siswa dinyatakan lulus."
   ]
  },
  {
   "cell_type": "code",
   "execution_count": 46,
   "metadata": {},
   "outputs": [
    {
     "name": "stdout",
     "output_type": "stream",
     "text": [
      "lulus\n",
      "selamat!\n",
      "program selesai\n"
     ]
    }
   ],
   "source": [
    "nilai=86\n",
    "if nilai>85:\n",
    "    print(\"lulus\")\n",
    "    print(\"selamat!\")\n",
    "print(\"program selesai\")"
   ]
  },
  {
   "cell_type": "markdown",
   "metadata": {},
   "source": [
    "### Else\n",
    "bentuk pecabangan yang lebih kompleks, mengunakan \"else\""
   ]
  },
  {
   "cell_type": "code",
   "execution_count": 48,
   "metadata": {},
   "outputs": [
    {
     "name": "stdout",
     "output_type": "stream",
     "text": [
      "maaf, anda harus remidi\n",
      "program selesai\n"
     ]
    }
   ],
   "source": [
    "nilai=50\n",
    "if nilai>85:\n",
    "    print(\"lulus\")\n",
    "    print(\"selamat!\")\n",
    "else:\n",
    "    print(\"maaf, anda harus remidi\")\n",
    "print(\"program selesai\")"
   ]
  },
  {
   "cell_type": "markdown",
   "metadata": {},
   "source": [
    "### Elif\n",
    "brntuk percabangan dengan lebih satu kondisi, menggunakan \"elif\""
   ]
  },
  {
   "cell_type": "code",
   "execution_count": 52,
   "metadata": {},
   "outputs": [
    {
     "name": "stdout",
     "output_type": "stream",
     "text": [
      "anda, mendapatkan tambahan tugas untuk menunjang nilai anda\n",
      "program selesai\n"
     ]
    }
   ],
   "source": [
    "nilai=81\n",
    "if nilai>85:\n",
    "    print(\"lulus\")\n",
    "    print(\"selamat!\")\n",
    "elif nilai>80:\n",
    "    print(\"anda, mendapatkan tambahan tugas untuk menunjang nilai anda\")\n",
    "else:\n",
    "    print(\"maaf, anda harus remidi\")\n",
    "print(\"program selesai\")"
   ]
  },
  {
   "cell_type": "markdown",
   "metadata": {},
   "source": [
    "### Percabangan dalam percabangan\n",
    "percabangan dapat disarangkan dalam percabangan"
   ]
  },
  {
   "cell_type": "code",
   "execution_count": 58,
   "metadata": {},
   "outputs": [
    {
     "name": "stdout",
     "output_type": "stream",
     "text": [
      "maaf, belum siap menikah\n",
      "program selesai\n"
     ]
    }
   ],
   "source": [
    "umur=9\n",
    "gaji=8\n",
    "\n",
    "if umur>=21:\n",
    "    if gaji>=10:\n",
    "        print(\"legal dan dinyatakan siap menikah\")\n",
    "    else:\n",
    "        print(\"belum legal dan belum siap meikah\")\n",
    "else:\n",
    "    print(\"maaf, belum siap menikah\")\n",
    "    \n",
    "print(\"program selesai\")\n"
   ]
  },
  {
   "cell_type": "markdown",
   "metadata": {},
   "source": [
    "## LATIHAN"
   ]
  },
  {
   "cell_type": "code",
   "execution_count": 2,
   "metadata": {},
   "outputs": [
    {
     "name": "stdout",
     "output_type": "stream",
     "text": [
      "BMI 19.531249999999996\n",
      "normal\n",
      "program selesai\n"
     ]
    }
   ],
   "source": [
    "weight=50\n",
    "height=160\n",
    "BMI=weight/((height/100)**2)\n",
    "print('BMI', BMI)\n",
    "\n",
    "if BMI>40:\n",
    "    print(\"very severely obese\")\n",
    "elif BMI>=35:\n",
    "    print(\"severely obese\")\n",
    "elif BMI>=30:\n",
    "    print(\"moderately obese\")\n",
    "elif BMI>=25:\n",
    "    print(\"overweight\")\n",
    "elif BMI>=18.5:\n",
    "    print(\"normal\")\n",
    "elif BMI>=16:\n",
    "    print(\"underweight\")\n",
    "elif BMI>=15:\n",
    "    print(\"severely undrweight\")\n",
    "elif BMI<15:\n",
    "    print(\"very severely underweight\")\n",
    "print(\"program selesai\")\n"
   ]
  },
  {
   "cell_type": "code",
   "execution_count": null,
   "metadata": {},
   "outputs": [],
   "source": [
    "weight=150\n",
    "height=1.60\n",
    "BMI=weight/(height**2)\n",
    "print('BMI', BMI)\n",
    "\n",
    "if BMI>40:\n",
    "    print(\"very severely obese\")\n",
    "elif BMI>=35:\n",
    "    print(\"severely obese\")\n",
    "elif BMI>=30:\n",
    "    print(\"moderately obese\")\n",
    "elif BMI>=25:\n",
    "    print(\"overweight\")\n",
    "elif BMI>=18.5:\n",
    "    print(\"normal\")\n",
    "elif BMI>=16:\n",
    "    print(\"underweight\")\n",
    "elif BMI>=15:\n",
    "    print(\"severely undrweight\")\n",
    "elif BMI<15:\n",
    "    print(\"very severely underweight\")\n",
    "print(\"program selesai\")\n"
   ]
  },
  {
   "cell_type": "code",
   "execution_count": null,
   "metadata": {},
   "outputs": [],
   "source": []
  }
 ],
 "metadata": {
  "kernelspec": {
   "display_name": "Python 3",
   "language": "python",
   "name": "python3"
  },
  "language_info": {
   "codemirror_mode": {
    "name": "ipython",
    "version": 3
   },
   "file_extension": ".py",
   "mimetype": "text/x-python",
   "name": "python",
   "nbconvert_exporter": "python",
   "pygments_lexer": "ipython3",
   "version": "3.6.4"
  }
 },
 "nbformat": 4,
 "nbformat_minor": 2
}
