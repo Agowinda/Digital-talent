{
 "cells": [
  {
   "cell_type": "code",
   "execution_count": 4,
   "metadata": {},
   "outputs": [
    {
     "name": "stdout",
     "output_type": "stream",
     "text": [
      "[12, 37, 72, 77, 54, 71, 42, 55, 47, 49, 74, 84, 2, 79, 85, 35, 11, 79, 37, 74, 83, 37, 8, 37, 22, 73, 17, 74, 10, 3, 40, 42, 58, 5, 93, 20, 22, 54, 28, 10, 59, 52, 5, 89, 79, 5, 64, 89, 55, 61, 6, 14, 53, 63, 23, 58, 3, 6, 82, 39, 55, 96, 25, 88, 85, 64, 11, 99, 59, 58, 65, 31, 30, 20, 71, 36, 88, 30, 81, 77, 65, 43, 79, 2, 83, 22, 87, 7, 92, 69, 11, 93, 2, 50, 93, 36, 38, 16, 80, 52, 9, 14, 7, 18, 71, 7, 70, 97, 51, 17, 84, 42, 50, 67, 86, 91, 11, 79, 66, 27, 61, 46, 25, 21, 41, 60, 8, 88, 63, 4, 37, 57, 14, 20, 5, 89, 5, 51, 84, 25, 46, 70, 14, 90, 33, 34, 38, 10, 69, 5, 72, 67, 98, 92, 54, 9, 44, 97, 95, 99, 27, 12, 60, 46, 37, 47, 70, 35, 73, 91, 74, 44, 65, 21, 3, 61, 71, 12, 6, 15, 32, 85, 31, 6, 79, 46, 12, 92, 85, 16, 66, 18, 90, 21, 31, 40, 66, 69, 83, 71, 15, 45, 61, 18, 98, 75, 17, 76, 87, 57, 71, 89, 21, 43, 89, 64, 17, 55, 32, 41, 1, 71, 38, 55, 84, 87, 53, 53, 22, 13, 44, 50, 11, 51, 82, 43, 87, 97, 49, 67, 38, 75, 59, 75, 41, 42, 87, 77, 14, 51]\n"
     ]
    }
   ],
   "source": [
    "import random\n",
    "nilaiTugas=[]\n",
    "for i in range(250):\n",
    "    nilaiTugas.append(random.randrange(1,100,1))\n",
    "print(nilaiTugas)"
   ]
  },
  {
   "cell_type": "code",
   "execution_count": 14,
   "metadata": {},
   "outputs": [
    {
     "name": "stdout",
     "output_type": "stream",
     "text": [
      "nilai ganjil\n",
      "[37, 77, 71, 55, 47, 49, 79, 85, 35, 11, 79, 37, 83, 37, 37, 73, 17, 3, 5, 93, 59, 5, 89, 79, 5, 89, 55, 61, 53, 63, 23, 3, 39, 55, 25, 85, 11, 99, 59, 65, 31, 71, 81, 77, 65, 43, 79, 83, 87, 7, 69, 11, 93, 93, 9, 7, 71, 7, 97, 51, 17, 67, 91, 11, 79, 27, 61, 25, 21, 41, 63, 37, 57, 5, 89, 5, 51, 25, 33, 69, 5, 67, 9, 97, 95, 99, 27, 37, 47, 35, 73, 91, 65, 21, 3, 61, 71, 15, 85, 31, 79, 85, 21, 31, 69, 83, 71, 15, 45, 61, 75, 17, 87, 57, 71, 89, 21, 43, 89, 17, 55, 41, 1, 71, 55, 87, 53, 53, 13, 11, 51, 43, 87, 97, 49, 67, 75, 59, 75, 41, 87, 77, 51]\n"
     ]
    }
   ],
   "source": [
    "ganjil=[]\n",
    "\n",
    "for i in nilaiTugas:\n",
    "    if i%2==1:\n",
    "        ganjil.append(i)\n",
    "print(\"nilai ganjil\")\n",
    "print(ganjil)\n"
   ]
  },
  {
   "cell_type": "code",
   "execution_count": 16,
   "metadata": {},
   "outputs": [
    {
     "name": "stdout",
     "output_type": "stream",
     "text": [
      "lebihDari\n",
      "[72, 77, 71, 74, 84, 79, 85, 79, 74, 83, 73, 74, 93, 89, 79, 89, 82, 96, 88, 85, 99, 71, 88, 81, 77, 79, 83, 87, 92, 93, 93, 80, 71, 97, 84, 86, 91, 79, 88, 89, 84, 90, 72, 98, 92, 97, 95, 99, 73, 91, 74, 71, 85, 79, 92, 85, 90, 83, 71, 98, 75, 76, 87, 71, 89, 89, 71, 84, 87, 82, 87, 97, 75, 75, 87, 77]\n"
     ]
    }
   ],
   "source": [
    "lebihDari=[]\n",
    "for i in nilaiTugas:\n",
    "    if i>70:\n",
    "        lebihDari.append(i)\n",
    "print(\"lebihDari\")\n",
    "print(lebihDari)"
   ]
  },
  {
   "cell_type": "code",
   "execution_count": 24,
   "metadata": {},
   "outputs": [
    {
     "name": "stdout",
     "output_type": "stream",
     "text": [
      "99\n"
     ]
    }
   ],
   "source": [
    "max=nilaiTugas[0]\n",
    "for i in nilaiTugas:\n",
    "    if i>max:\n",
    "        max=i\n",
    "print(max)"
   ]
  },
  {
   "cell_type": "code",
   "execution_count": 27,
   "metadata": {},
   "outputs": [
    {
     "name": "stdout",
     "output_type": "stream",
     "text": [
      "1\n"
     ]
    }
   ],
   "source": [
    "min=nilaiTugas[0]\n",
    "for i in nilaiTugas:\n",
    "    if i<min:\n",
    "        min=i\n",
    "print(min)"
   ]
  },
  {
   "cell_type": "code",
   "execution_count": 29,
   "metadata": {},
   "outputs": [
    {
     "name": "stdout",
     "output_type": "stream",
     "text": [
      "28.840818073497744\n"
     ]
    }
   ],
   "source": [
    "#stadndar deviasi\n",
    "\n",
    "a=0\n",
    "j=len(nilaiTugas)\n",
    "for n in nilaiTugas:\n",
    "    a=a+n\n",
    "rata=a/j\n",
    "\n",
    "b=0\n",
    "for n in nilaiTugas:\n",
    "    c=n-rata\n",
    "    pangkat=c**2\n",
    "    b=b+pangkat\n",
    "standarDeviasi=(b/(j-1))**(0.5)\n",
    "print(standarDeviasi)"
   ]
  },
  {
   "cell_type": "code",
   "execution_count": 31,
   "metadata": {},
   "outputs": [
    {
     "name": "stdout",
     "output_type": "stream",
     "text": [
      "71\n"
     ]
    }
   ],
   "source": [
    "#modus\n",
    "x={}\n",
    "modus=\"\"\n",
    "for i in nilaiTugas:\n",
    "    if i in x:\n",
    "        x[i]+=1\n",
    "    else:\n",
    "        x[i]=1\n",
    "max=0\n",
    "for i in x:\n",
    "    if x[i]>max:\n",
    "        max=x[i]\n",
    "        modus=i\n",
    "print(modus)"
   ]
  },
  {
   "cell_type": "code",
   "execution_count": 38,
   "metadata": {},
   "outputs": [
    {
     "name": "stdout",
     "output_type": "stream",
     "text": [
      "Barcelona 4\n",
      "berhasil 1\n",
      "merebut 1\n",
      "posisi 1\n",
      "puncak 1\n",
      "klasemen 1\n",
      "La 1\n",
      "Liga 1\n",
      "Spanyol 1\n",
      "seusai 1\n",
      "menang 1\n",
      "42 1\n",
      "atas 1\n",
      "Sevilla 1\n",
      "pada 3\n",
      "pertandingan 1\n",
      "pekan 1\n",
      "kesembilan 1\n",
      "di 1\n",
      "Stadion 1\n",
      "Camp 1\n",
      "Nou 1\n",
      "Sabtu 1\n",
      "20102018 1\n",
      "atau 1\n",
      "Minggu 1\n",
      "dini 1\n",
      "hari 1\n",
      "WIB 1\n",
      "Barcelona 4\n",
      "membuka 1\n",
      "keunggulan 2\n",
      "pada 3\n",
      "menit 3\n",
      "ke2 1\n",
      "melalui 1\n",
      "gol 1\n",
      "yang 1\n",
      "dicetak 1\n",
      "oleh 1\n",
      "Philippe 1\n",
      "Coutinho 1\n",
      "Lionel 1\n",
      "Messi 3\n",
      "menggandakan 1\n",
      "keunggulan 2\n",
      "Barcelona 4\n",
      "10 1\n",
      "menit 3\n",
      "berselang 1\n",
      "Namun 1\n",
      "nahas 1\n",
      "bagi 1\n",
      "Barcelona 4\n",
      "karena 1\n",
      "Messi 3\n",
      "harus 1\n",
      "ditarik 1\n",
      "keluar 1\n",
      "pada 3\n",
      "menit 3\n",
      "ke26 1\n",
      "setelah 1\n",
      "mengalami 1\n",
      "cedera 1\n",
      "Tanpa 1\n",
      "Messi 3\n",
      "skor 1\n",
      "20 1\n",
      "bertahan 1\n",
      "hingga 1\n",
      "babak 1\n",
      "pertama 1\n",
      "berakhir 1\n"
     ]
    }
   ],
   "source": [
    "#wordscount\n",
    "paragraf = \"Barcelona berhasil merebut posisi puncak klasemen La Liga Spanyol seusai menang 4-2 atas Sevilla pada pertandingan pekan kesembilan di Stadion Camp Nou, Sabtu (20/10/2018) atau Minggu dini hari WIB. Barcelona membuka keunggulan pada menit ke-2 melalui gol yang dicetak oleh Philippe Coutinho. Lionel Messi menggandakan keunggulan Barcelona, 10 menit berselang.  Namun, nahas bagi Barcelona, karena Messi harus ditarik keluar pada menit ke-26 setelah mengalami cedera. Tanpa Messi, skor 2-0 bertahan hingga babak pertama berakhir.\"\n",
    "\n",
    "\n",
    "paragraf=paragraf.replace(',','')\n",
    "paragraf=paragraf.replace('/','')\n",
    "paragraf=paragraf.replace('.','')\n",
    "paragraf=paragraf.replace('-','')\n",
    "paragraf=paragraf.replace('(','')\n",
    "paragraf=paragraf.replace(')','')\n",
    "\n",
    "kalimat=paragraf.split()\n",
    "\n",
    "for kata in kalimat:\n",
    "    jumlah=kalimat.count(kata)\n",
    "    print(kata,jumlah)"
   ]
  },
  {
   "cell_type": "code",
   "execution_count": null,
   "metadata": {},
   "outputs": [],
   "source": []
  }
 ],
 "metadata": {
  "kernelspec": {
   "display_name": "Python 3",
   "language": "python",
   "name": "python3"
  },
  "language_info": {
   "codemirror_mode": {
    "name": "ipython",
    "version": 3
   },
   "file_extension": ".py",
   "mimetype": "text/x-python",
   "name": "python",
   "nbconvert_exporter": "python",
   "pygments_lexer": "ipython3",
   "version": "3.6.4"
  }
 },
 "nbformat": 4,
 "nbformat_minor": 2
}
